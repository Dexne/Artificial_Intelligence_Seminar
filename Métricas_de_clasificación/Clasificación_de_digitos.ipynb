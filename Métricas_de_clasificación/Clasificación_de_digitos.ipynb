{
  "nbformat": 4,
  "nbformat_minor": 0,
  "metadata": {
    "colab": {
      "provenance": [],
      "authorship_tag": "ABX9TyNGSdIx0zPPBEzbw6nMGPtQ",
      "include_colab_link": true
    },
    "kernelspec": {
      "name": "python3",
      "display_name": "Python 3"
    },
    "language_info": {
      "name": "python"
    }
  },
  "cells": [
    {
      "cell_type": "markdown",
      "metadata": {
        "id": "view-in-github",
        "colab_type": "text"
      },
      "source": [
        "<a href=\"https://colab.research.google.com/github/Dexne/Artificial_Intelligence_Seminar/blob/main/M%C3%A9tricas_de_clasificaci%C3%B3n/Clasificaci%C3%B3n_de_digitos.ipynb\" target=\"_parent\"><img src=\"https://colab.research.google.com/assets/colab-badge.svg\" alt=\"Open In Colab\"/></a>"
      ]
    },
    {
      "cell_type": "code",
      "execution_count": 1,
      "metadata": {
        "id": "UPP-JXlTacyZ"
      },
      "outputs": [],
      "source": [
        "# Métricas para clasificación\n",
        "# Clasificación de digitos\n",
        "import numpy as np\n",
        "import matplotlib.pyplot as plt\n",
        "from sklearn import datasets, svm, metrics\n",
        "from sklearn.model_selection import train_test_split"
      ]
    },
    {
      "cell_type": "markdown",
      "source": [
        "Leer datos:"
      ],
      "metadata": {
        "id": "fd3KDlLmbgsm"
      }
    },
    {
      "cell_type": "code",
      "source": [
        "digits = datasets.load_digits()\n",
        "target, images = digits['target'], digits['images']"
      ],
      "metadata": {
        "id": "N23bejIBajbW"
      },
      "execution_count": 2,
      "outputs": []
    },
    {
      "cell_type": "markdown",
      "source": [
        "Calcular cuántos hay"
      ],
      "metadata": {
        "id": "0_Ny6FP_bvp-"
      }
    },
    {
      "cell_type": "code",
      "source": [],
      "metadata": {
        "id": "fpz37bQiajUn"
      },
      "execution_count": null,
      "outputs": []
    },
    {
      "cell_type": "code",
      "source": [],
      "metadata": {
        "id": "o6-x2QRAajL2"
      },
      "execution_count": null,
      "outputs": []
    },
    {
      "cell_type": "code",
      "source": [],
      "metadata": {
        "id": "HvczSMgQajFn"
      },
      "execution_count": null,
      "outputs": []
    }
  ]
}